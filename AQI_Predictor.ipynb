{
  "nbformat": 4,
  "nbformat_minor": 0,
  "metadata": {
    "colab": {
      "provenance": [],
      "authorship_tag": "ABX9TyMGDDxrFnyw4pw2V9vYXfgu",
      "include_colab_link": true
    },
    "kernelspec": {
      "name": "python3",
      "display_name": "Python 3"
    },
    "language_info": {
      "name": "python"
    }
  },
  "cells": [
    {
      "cell_type": "markdown",
      "metadata": {
        "id": "view-in-github",
        "colab_type": "text"
      },
      "source": [
        "<a href=\"https://colab.research.google.com/github/yashchaturvedi00/AI/blob/main/AQI_Predictor.ipynb\" target=\"_parent\"><img src=\"https://colab.research.google.com/assets/colab-badge.svg\" alt=\"Open In Colab\"/></a>"
      ]
    },
    {
      "cell_type": "code",
      "source": [],
      "metadata": {
        "id": "-iBE9FQeBmOc"
      },
      "execution_count": null,
      "outputs": []
    },
    {
      "cell_type": "code",
      "execution_count": 8,
      "metadata": {
        "colab": {
          "base_uri": "https://localhost:8080/",
          "height": 1000
        },
        "id": "3RG90f-Y_sYD",
        "outputId": "6a2c37cc-fcd0-4dc7-ff2a-15be3ae92258"
      },
      "outputs": [
        {
          "output_type": "stream",
          "name": "stdout",
          "text": [
            "      T    TM   Tm     SLP     H   VV    V    VM      PM 2.5\n",
            "0   7.4   9.8  4.8  1017.6  93.0  0.5  4.3   9.4  219.720833\n",
            "1   7.8  12.7  4.4  1018.5  87.0  0.6  4.4  11.1  182.187500\n",
            "2   6.7  13.4  2.4  1019.4  82.0  0.6  4.8  11.1  154.037500\n",
            "3   8.6  15.5  3.3  1018.7  72.0  0.8  8.1  20.6  223.208333\n",
            "4  12.4  20.9  4.4  1017.3  61.0  1.3  8.7  22.2  200.645833\n",
            "T         0\n",
            "TM        0\n",
            "Tm        0\n",
            "SLP       0\n",
            "H         0\n",
            "VV        0\n",
            "V         0\n",
            "VM        0\n",
            "PM 2.5    1\n",
            "dtype: int64\n",
            "Index(['T', 'TM', 'Tm', 'SLP', 'H', 'VV', 'V', 'VM', 'PM 2.5'], dtype='object')\n",
            "      T    TM   Tm     SLP     H   VV    V    VM      PM 2.5\n",
            "0   7.4   9.8  4.8  1017.6  93.0  0.5  4.3   9.4  219.720833\n",
            "1   7.8  12.7  4.4  1018.5  87.0  0.6  4.4  11.1  182.187500\n",
            "2   6.7  13.4  2.4  1019.4  82.0  0.6  4.8  11.1  154.037500\n",
            "3   8.6  15.5  3.3  1018.7  72.0  0.8  8.1  20.6  223.208333\n",
            "4  12.4  20.9  4.4  1017.3  61.0  1.3  8.7  22.2  200.645833\n",
            "0    219.720833\n",
            "1    182.187500\n",
            "2    154.037500\n",
            "3    223.208333\n",
            "4    200.645833\n",
            "Name: PM 2.5, dtype: float64\n",
            "Mean Squared Error: 7.683696556544903e-28\n",
            "R-squared: 1.0\n"
          ]
        },
        {
          "output_type": "display_data",
          "data": {
            "text/plain": [
              "<Figure size 640x480 with 1 Axes>"
            ],
            "image/png": "[encoded data removed]"
          },
          "metadata": {}
        },
        {
          "output_type": "stream",
          "name": "stdout",
          "text": [
            "Predicted AQI: [20.]\n",
            "Predicted AQI: [20.]\n"
          ]
        }
      ],
      "source": [
        "import numpy as np\n",
        "import matplotlib.pyplot as plt\n",
        "from sklearn.model_selection import train_test_split\n",
        "from sklearn.linear_model import LinearRegression\n",
        "from sklearn.metrics import mean_squared_error, r2_score\n",
        "import pandas as pd\n",
        "\n",
        "# Correct URL format for Google Drive\n",
        "dataset_url = \"https://drive.google.com/uc?id=1f2E4yY9jmZlgRFirp0vSWPx1DlSYJ6ie&export=download\"\n",
        "\n",
        "# Loading the dataset\n",
        "data = pd.read_csv(dataset_url)\n",
        "\n",
        "# Display the first few rows of the dataset\n",
        "print(data.head())\n",
        "\n",
        "# Check for missing values\n",
        "print(data.isnull().sum())\n",
        "\n",
        "# Handle missing values (e.g., drop or impute)\n",
        "data = data.dropna()  # Simplest approach\n",
        "\n",
        "# Display the columns of the dataset\n",
        "print(data.columns)\n",
        "\n",
        "# Specify the correct feature names\n",
        "features = ['T', 'TM', 'Tm', 'SLP' ,'H', 'VV' , 'V', 'VM', 'PM 2.5']\n",
        "\n",
        "# Extract the features and labels\n",
        "X = data[features]\n",
        "y = data['PM 2.5']  # Replace 'AQI' with the actual name of the AQI column\n",
        "print(X.head())\n",
        "print(y.head())\n",
        "X_train, X_test, y_train, y_test = train_test_split(X, y, test_size=0.2, random_state=42)\n",
        "\n",
        "# Create and train the linear regression model\n",
        "model = LinearRegression()\n",
        "model.fit(X_train, y_train)\n",
        "\n",
        "# Make predictions on the testing set\n",
        "y_pred = model.predict(X_test)\n",
        "\n",
        "# Calculate evaluation metrics\n",
        "mse = mean_squared_error(y_test, y_pred)\n",
        "r2 = r2_score(y_test, y_pred)\n",
        "\n",
        "print(\"Mean Squared Error:\", mse)\n",
        "print(\"R-squared:\", r2)\n",
        "\n",
        "plt.scatter(y_test, y_pred)\n",
        "plt.xlabel(\"Actual AQI\")\n",
        "plt.ylabel(\"Predicted AQI\")\n",
        "plt.title(\"Actual vs. Predicted AQI\")\n",
        "plt.show()\n",
        "\n",
        "# Example values, replace these with your actual values\n",
        "T = 10\n",
        "TM = 15\n",
        "Tm = 5\n",
        "SLP = 1012\n",
        "H = 60\n",
        "VV = 10\n",
        "V = 2\n",
        "VM = 5\n",
        "PM_2_5 = 20\n",
        "\n",
        "\n",
        "new_data = pd.DataFrame({\n",
        "    'T': [T],\n",
        "    'TM': [TM],\n",
        "    'Tm': [Tm],\n",
        "    'SLP': [SLP],\n",
        "    'H': [H],\n",
        "    'VV': [VV],\n",
        "    'V': [V],\n",
        "    'VM': [VM],\n",
        "    'PM 2.5': [PM_2_5]\n",
        "})  # Replace with actual feature values\n",
        "\n",
        "new_aqi_predictions = model.predict(new_data)\n",
        "print(\"Predicted AQI:\", new_aqi_predictions)\n",
        "new_aqi_predictions = model.predict(new_data)\n",
        "print(\"Predicted AQI:\", new_aqi_predictions)\n",
        "\n"
      ]
    }
  ]
}